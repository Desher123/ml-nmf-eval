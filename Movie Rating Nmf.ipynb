{
 "cells": [
  {
   "cell_type": "markdown",
   "id": "4b5985b4-9e18-4306-a5f2-7eb62b042d28",
   "metadata": {},
   "source": [
    "# Limitations of NMF: Movie Rating"
   ]
  },
  {
   "cell_type": "markdown",
   "id": "5e9e498e-1468-47e6-bb75-06c855af1a35",
   "metadata": {},
   "source": [
    "## Imports"
   ]
  },
  {
   "cell_type": "code",
   "execution_count": 1,
   "id": "7a31b9ed-365b-4752-9711-f95f01813dd8",
   "metadata": {},
   "outputs": [],
   "source": [
    "import os\n",
    "\n",
    "import numpy as np \n",
    "import pandas as pd \n",
    "import matplotlib.pyplot as plt\n",
    "import seaborn as sns\n",
    "\n",
    "from sklearn.feature_extraction.text import CountVectorizer\n",
    "from sklearn.feature_extraction.text import TfidfTransformer\n",
    "\n",
    "from sklearn.preprocessing import Normalizer\n",
    "\n",
    "from sklearn.pipeline import Pipeline\n",
    "\n",
    "from sklearn.decomposition import NMF\n",
    "\n",
    "from sklearn.model_selection import GridSearchCV\n",
    "\n",
    "from sklearn.metrics import confusion_matrix\n",
    "from sklearn.metrics import accuracy_score\n",
    "from sklearn.metrics import mean_squared_error\n",
    "\n",
    "%matplotlib inline"
   ]
  },
  {
   "cell_type": "markdown",
   "id": "3939fe19-0ff2-4c58-8104-1b115461741e",
   "metadata": {},
   "source": [
    "## Exploratory Data Analysis (EDA)"
   ]
  },
  {
   "cell_type": "markdown",
   "id": "1f6bc87a-354f-453b-9de5-0dd5df640f3b",
   "metadata": {},
   "source": [
    "Let's load the data. The data was copied from [Kaggle: UnLrW3_movie_ratings_dataset](https://www.kaggle.com/datasets/yu1111/unlrw3-movie-ratings-dataset)"
   ]
  },
  {
   "cell_type": "code",
   "execution_count": 2,
   "id": "b48275da-9b15-4fac-b6ec-cd36346502ab",
   "metadata": {},
   "outputs": [],
   "source": [
    "train_csv = os.path.join('./data', 'train.csv')\n",
    "test_csv = os.path.join('./data', 'test.csv')\n",
    "movies_csv = os.path.join('./data', 'movies.csv')\n",
    "users_csv = os.path.join('./data', 'users.csv')"
   ]
  },
  {
   "cell_type": "code",
   "execution_count": 3,
   "id": "7299fab3-bb8b-4c87-ad7e-c7ceb7b5e661",
   "metadata": {},
   "outputs": [],
   "source": [
    "df_train = pd.read_csv(train_csv)\n",
    "df_test = pd.read_csv(test_csv)\n",
    "df_movies = pd.read_csv(movies_csv)\n",
    "df_users = pd.read_csv(users_csv)"
   ]
  },
  {
   "cell_type": "code",
   "execution_count": 4,
   "id": "7b09a771-0452-4f18-b5c4-d7dcee4ee678",
   "metadata": {},
   "outputs": [
    {
     "data": {
      "text/html": [
       "<div>\n",
       "<style scoped>\n",
       "    .dataframe tbody tr th:only-of-type {\n",
       "        vertical-align: middle;\n",
       "    }\n",
       "\n",
       "    .dataframe tbody tr th {\n",
       "        vertical-align: top;\n",
       "    }\n",
       "\n",
       "    .dataframe thead th {\n",
       "        text-align: right;\n",
       "    }\n",
       "</style>\n",
       "<table border=\"1\" class=\"dataframe\">\n",
       "  <thead>\n",
       "    <tr style=\"text-align: right;\">\n",
       "      <th></th>\n",
       "      <th>uID</th>\n",
       "      <th>mID</th>\n",
       "      <th>rating</th>\n",
       "    </tr>\n",
       "  </thead>\n",
       "  <tbody>\n",
       "    <tr>\n",
       "      <th>0</th>\n",
       "      <td>744</td>\n",
       "      <td>1210</td>\n",
       "      <td>5</td>\n",
       "    </tr>\n",
       "    <tr>\n",
       "      <th>1</th>\n",
       "      <td>3040</td>\n",
       "      <td>1584</td>\n",
       "      <td>4</td>\n",
       "    </tr>\n",
       "    <tr>\n",
       "      <th>2</th>\n",
       "      <td>1451</td>\n",
       "      <td>1293</td>\n",
       "      <td>5</td>\n",
       "    </tr>\n",
       "    <tr>\n",
       "      <th>3</th>\n",
       "      <td>5455</td>\n",
       "      <td>3176</td>\n",
       "      <td>2</td>\n",
       "    </tr>\n",
       "    <tr>\n",
       "      <th>4</th>\n",
       "      <td>2507</td>\n",
       "      <td>3074</td>\n",
       "      <td>5</td>\n",
       "    </tr>\n",
       "  </tbody>\n",
       "</table>\n",
       "</div>"
      ],
      "text/plain": [
       "    uID   mID  rating\n",
       "0   744  1210       5\n",
       "1  3040  1584       4\n",
       "2  1451  1293       5\n",
       "3  5455  3176       2\n",
       "4  2507  3074       5"
      ]
     },
     "execution_count": 4,
     "metadata": {},
     "output_type": "execute_result"
    }
   ],
   "source": [
    "df_train.head()"
   ]
  },
  {
   "cell_type": "code",
   "execution_count": 5,
   "id": "29f4445f-8243-43fd-8058-e110d9fa8f10",
   "metadata": {},
   "outputs": [
    {
     "data": {
      "text/html": [
       "<div>\n",
       "<style scoped>\n",
       "    .dataframe tbody tr th:only-of-type {\n",
       "        vertical-align: middle;\n",
       "    }\n",
       "\n",
       "    .dataframe tbody tr th {\n",
       "        vertical-align: top;\n",
       "    }\n",
       "\n",
       "    .dataframe thead th {\n",
       "        text-align: right;\n",
       "    }\n",
       "</style>\n",
       "<table border=\"1\" class=\"dataframe\">\n",
       "  <thead>\n",
       "    <tr style=\"text-align: right;\">\n",
       "      <th></th>\n",
       "      <th>mID</th>\n",
       "      <th>title</th>\n",
       "      <th>year</th>\n",
       "      <th>Doc</th>\n",
       "      <th>Com</th>\n",
       "      <th>Hor</th>\n",
       "      <th>Adv</th>\n",
       "      <th>Wes</th>\n",
       "      <th>Dra</th>\n",
       "      <th>Ani</th>\n",
       "      <th>...</th>\n",
       "      <th>Chi</th>\n",
       "      <th>Cri</th>\n",
       "      <th>Thr</th>\n",
       "      <th>Sci</th>\n",
       "      <th>Mys</th>\n",
       "      <th>Rom</th>\n",
       "      <th>Fil</th>\n",
       "      <th>Fan</th>\n",
       "      <th>Act</th>\n",
       "      <th>Mus</th>\n",
       "    </tr>\n",
       "  </thead>\n",
       "  <tbody>\n",
       "    <tr>\n",
       "      <th>0</th>\n",
       "      <td>1</td>\n",
       "      <td>Toy Story</td>\n",
       "      <td>1995</td>\n",
       "      <td>0</td>\n",
       "      <td>1</td>\n",
       "      <td>0</td>\n",
       "      <td>0</td>\n",
       "      <td>0</td>\n",
       "      <td>0</td>\n",
       "      <td>1</td>\n",
       "      <td>...</td>\n",
       "      <td>1</td>\n",
       "      <td>0</td>\n",
       "      <td>0</td>\n",
       "      <td>0</td>\n",
       "      <td>0</td>\n",
       "      <td>0</td>\n",
       "      <td>0</td>\n",
       "      <td>0</td>\n",
       "      <td>0</td>\n",
       "      <td>0</td>\n",
       "    </tr>\n",
       "    <tr>\n",
       "      <th>1</th>\n",
       "      <td>2</td>\n",
       "      <td>Jumanji</td>\n",
       "      <td>1995</td>\n",
       "      <td>0</td>\n",
       "      <td>0</td>\n",
       "      <td>0</td>\n",
       "      <td>1</td>\n",
       "      <td>0</td>\n",
       "      <td>0</td>\n",
       "      <td>0</td>\n",
       "      <td>...</td>\n",
       "      <td>1</td>\n",
       "      <td>0</td>\n",
       "      <td>0</td>\n",
       "      <td>0</td>\n",
       "      <td>0</td>\n",
       "      <td>0</td>\n",
       "      <td>0</td>\n",
       "      <td>1</td>\n",
       "      <td>0</td>\n",
       "      <td>0</td>\n",
       "    </tr>\n",
       "    <tr>\n",
       "      <th>2</th>\n",
       "      <td>3</td>\n",
       "      <td>Grumpier Old Men</td>\n",
       "      <td>1995</td>\n",
       "      <td>0</td>\n",
       "      <td>1</td>\n",
       "      <td>0</td>\n",
       "      <td>0</td>\n",
       "      <td>0</td>\n",
       "      <td>0</td>\n",
       "      <td>0</td>\n",
       "      <td>...</td>\n",
       "      <td>0</td>\n",
       "      <td>0</td>\n",
       "      <td>0</td>\n",
       "      <td>0</td>\n",
       "      <td>0</td>\n",
       "      <td>1</td>\n",
       "      <td>0</td>\n",
       "      <td>0</td>\n",
       "      <td>0</td>\n",
       "      <td>0</td>\n",
       "    </tr>\n",
       "    <tr>\n",
       "      <th>3</th>\n",
       "      <td>4</td>\n",
       "      <td>Waiting to Exhale</td>\n",
       "      <td>1995</td>\n",
       "      <td>0</td>\n",
       "      <td>1</td>\n",
       "      <td>0</td>\n",
       "      <td>0</td>\n",
       "      <td>0</td>\n",
       "      <td>1</td>\n",
       "      <td>0</td>\n",
       "      <td>...</td>\n",
       "      <td>0</td>\n",
       "      <td>0</td>\n",
       "      <td>0</td>\n",
       "      <td>0</td>\n",
       "      <td>0</td>\n",
       "      <td>0</td>\n",
       "      <td>0</td>\n",
       "      <td>0</td>\n",
       "      <td>0</td>\n",
       "      <td>0</td>\n",
       "    </tr>\n",
       "    <tr>\n",
       "      <th>4</th>\n",
       "      <td>5</td>\n",
       "      <td>Father of the Bride Part II</td>\n",
       "      <td>1995</td>\n",
       "      <td>0</td>\n",
       "      <td>1</td>\n",
       "      <td>0</td>\n",
       "      <td>0</td>\n",
       "      <td>0</td>\n",
       "      <td>0</td>\n",
       "      <td>0</td>\n",
       "      <td>...</td>\n",
       "      <td>0</td>\n",
       "      <td>0</td>\n",
       "      <td>0</td>\n",
       "      <td>0</td>\n",
       "      <td>0</td>\n",
       "      <td>0</td>\n",
       "      <td>0</td>\n",
       "      <td>0</td>\n",
       "      <td>0</td>\n",
       "      <td>0</td>\n",
       "    </tr>\n",
       "  </tbody>\n",
       "</table>\n",
       "<p>5 rows × 21 columns</p>\n",
       "</div>"
      ],
      "text/plain": [
       "   mID                        title  year  Doc  Com  Hor  Adv  Wes  Dra  Ani  \\\n",
       "0    1                    Toy Story  1995    0    1    0    0    0    0    1   \n",
       "1    2                      Jumanji  1995    0    0    0    1    0    0    0   \n",
       "2    3             Grumpier Old Men  1995    0    1    0    0    0    0    0   \n",
       "3    4            Waiting to Exhale  1995    0    1    0    0    0    1    0   \n",
       "4    5  Father of the Bride Part II  1995    0    1    0    0    0    0    0   \n",
       "\n",
       "   ...  Chi  Cri  Thr  Sci  Mys  Rom  Fil  Fan  Act  Mus  \n",
       "0  ...    1    0    0    0    0    0    0    0    0    0  \n",
       "1  ...    1    0    0    0    0    0    0    1    0    0  \n",
       "2  ...    0    0    0    0    0    1    0    0    0    0  \n",
       "3  ...    0    0    0    0    0    0    0    0    0    0  \n",
       "4  ...    0    0    0    0    0    0    0    0    0    0  \n",
       "\n",
       "[5 rows x 21 columns]"
      ]
     },
     "execution_count": 5,
     "metadata": {},
     "output_type": "execute_result"
    }
   ],
   "source": [
    "df_movies.head()"
   ]
  },
  {
   "cell_type": "code",
   "execution_count": 6,
   "id": "da8f3faf-7cfc-480f-b72d-7d3238ea2c5f",
   "metadata": {},
   "outputs": [
    {
     "data": {
      "text/html": [
       "<div>\n",
       "<style scoped>\n",
       "    .dataframe tbody tr th:only-of-type {\n",
       "        vertical-align: middle;\n",
       "    }\n",
       "\n",
       "    .dataframe tbody tr th {\n",
       "        vertical-align: top;\n",
       "    }\n",
       "\n",
       "    .dataframe thead th {\n",
       "        text-align: right;\n",
       "    }\n",
       "</style>\n",
       "<table border=\"1\" class=\"dataframe\">\n",
       "  <thead>\n",
       "    <tr style=\"text-align: right;\">\n",
       "      <th></th>\n",
       "      <th>uID</th>\n",
       "      <th>gender</th>\n",
       "      <th>age</th>\n",
       "      <th>accupation</th>\n",
       "      <th>zip</th>\n",
       "    </tr>\n",
       "  </thead>\n",
       "  <tbody>\n",
       "    <tr>\n",
       "      <th>0</th>\n",
       "      <td>1</td>\n",
       "      <td>F</td>\n",
       "      <td>1</td>\n",
       "      <td>10</td>\n",
       "      <td>48067</td>\n",
       "    </tr>\n",
       "    <tr>\n",
       "      <th>1</th>\n",
       "      <td>2</td>\n",
       "      <td>M</td>\n",
       "      <td>56</td>\n",
       "      <td>16</td>\n",
       "      <td>70072</td>\n",
       "    </tr>\n",
       "    <tr>\n",
       "      <th>2</th>\n",
       "      <td>3</td>\n",
       "      <td>M</td>\n",
       "      <td>25</td>\n",
       "      <td>15</td>\n",
       "      <td>55117</td>\n",
       "    </tr>\n",
       "    <tr>\n",
       "      <th>3</th>\n",
       "      <td>4</td>\n",
       "      <td>M</td>\n",
       "      <td>45</td>\n",
       "      <td>7</td>\n",
       "      <td>02460</td>\n",
       "    </tr>\n",
       "    <tr>\n",
       "      <th>4</th>\n",
       "      <td>5</td>\n",
       "      <td>M</td>\n",
       "      <td>25</td>\n",
       "      <td>20</td>\n",
       "      <td>55455</td>\n",
       "    </tr>\n",
       "  </tbody>\n",
       "</table>\n",
       "</div>"
      ],
      "text/plain": [
       "   uID gender  age  accupation    zip\n",
       "0    1      F    1          10  48067\n",
       "1    2      M   56          16  70072\n",
       "2    3      M   25          15  55117\n",
       "3    4      M   45           7  02460\n",
       "4    5      M   25          20  55455"
      ]
     },
     "execution_count": 6,
     "metadata": {},
     "output_type": "execute_result"
    }
   ],
   "source": [
    "df_users.head()"
   ]
  },
  {
   "cell_type": "code",
   "execution_count": 28,
   "id": "dc8de39a-f28b-47fa-969a-02bfa03ebc8b",
   "metadata": {},
   "outputs": [
    {
     "data": {
      "text/plain": [
       "uID       0\n",
       "mID       0\n",
       "rating    0\n",
       "dtype: int64"
      ]
     },
     "execution_count": 28,
     "metadata": {},
     "output_type": "execute_result"
    }
   ],
   "source": [
    "df_train.isna().sum()"
   ]
  },
  {
   "cell_type": "markdown",
   "id": "74bdfccb-5ef8-4502-97b6-45508d546ff9",
   "metadata": {},
   "source": [
    "The training dataset looks clean. So, we can go ahead and build a rating user-movie matrix."
   ]
  },
  {
   "cell_type": "code",
   "execution_count": 29,
   "id": "0f039d5b-2b7c-4029-8700-0717f33a32b6",
   "metadata": {},
   "outputs": [
    {
     "data": {
      "text/html": [
       "<div>\n",
       "<style scoped>\n",
       "    .dataframe tbody tr th:only-of-type {\n",
       "        vertical-align: middle;\n",
       "    }\n",
       "\n",
       "    .dataframe tbody tr th {\n",
       "        vertical-align: top;\n",
       "    }\n",
       "\n",
       "    .dataframe thead th {\n",
       "        text-align: right;\n",
       "    }\n",
       "</style>\n",
       "<table border=\"1\" class=\"dataframe\">\n",
       "  <thead>\n",
       "    <tr style=\"text-align: right;\">\n",
       "      <th>mID</th>\n",
       "      <th>1</th>\n",
       "      <th>2</th>\n",
       "      <th>3</th>\n",
       "      <th>4</th>\n",
       "      <th>5</th>\n",
       "      <th>6</th>\n",
       "      <th>7</th>\n",
       "      <th>8</th>\n",
       "      <th>9</th>\n",
       "      <th>10</th>\n",
       "      <th>...</th>\n",
       "      <th>3943</th>\n",
       "      <th>3944</th>\n",
       "      <th>3945</th>\n",
       "      <th>3946</th>\n",
       "      <th>3947</th>\n",
       "      <th>3948</th>\n",
       "      <th>3949</th>\n",
       "      <th>3950</th>\n",
       "      <th>3951</th>\n",
       "      <th>3952</th>\n",
       "    </tr>\n",
       "    <tr>\n",
       "      <th>uID</th>\n",
       "      <th></th>\n",
       "      <th></th>\n",
       "      <th></th>\n",
       "      <th></th>\n",
       "      <th></th>\n",
       "      <th></th>\n",
       "      <th></th>\n",
       "      <th></th>\n",
       "      <th></th>\n",
       "      <th></th>\n",
       "      <th></th>\n",
       "      <th></th>\n",
       "      <th></th>\n",
       "      <th></th>\n",
       "      <th></th>\n",
       "      <th></th>\n",
       "      <th></th>\n",
       "      <th></th>\n",
       "      <th></th>\n",
       "      <th></th>\n",
       "      <th></th>\n",
       "    </tr>\n",
       "  </thead>\n",
       "  <tbody>\n",
       "    <tr>\n",
       "      <th>1</th>\n",
       "      <td>5.0</td>\n",
       "      <td>NaN</td>\n",
       "      <td>NaN</td>\n",
       "      <td>NaN</td>\n",
       "      <td>NaN</td>\n",
       "      <td>NaN</td>\n",
       "      <td>NaN</td>\n",
       "      <td>NaN</td>\n",
       "      <td>NaN</td>\n",
       "      <td>NaN</td>\n",
       "      <td>...</td>\n",
       "      <td>NaN</td>\n",
       "      <td>NaN</td>\n",
       "      <td>NaN</td>\n",
       "      <td>NaN</td>\n",
       "      <td>NaN</td>\n",
       "      <td>NaN</td>\n",
       "      <td>NaN</td>\n",
       "      <td>NaN</td>\n",
       "      <td>NaN</td>\n",
       "      <td>NaN</td>\n",
       "    </tr>\n",
       "    <tr>\n",
       "      <th>2</th>\n",
       "      <td>NaN</td>\n",
       "      <td>NaN</td>\n",
       "      <td>NaN</td>\n",
       "      <td>NaN</td>\n",
       "      <td>NaN</td>\n",
       "      <td>NaN</td>\n",
       "      <td>NaN</td>\n",
       "      <td>NaN</td>\n",
       "      <td>NaN</td>\n",
       "      <td>NaN</td>\n",
       "      <td>...</td>\n",
       "      <td>NaN</td>\n",
       "      <td>NaN</td>\n",
       "      <td>NaN</td>\n",
       "      <td>NaN</td>\n",
       "      <td>NaN</td>\n",
       "      <td>NaN</td>\n",
       "      <td>NaN</td>\n",
       "      <td>NaN</td>\n",
       "      <td>NaN</td>\n",
       "      <td>NaN</td>\n",
       "    </tr>\n",
       "    <tr>\n",
       "      <th>3</th>\n",
       "      <td>NaN</td>\n",
       "      <td>NaN</td>\n",
       "      <td>NaN</td>\n",
       "      <td>NaN</td>\n",
       "      <td>NaN</td>\n",
       "      <td>NaN</td>\n",
       "      <td>NaN</td>\n",
       "      <td>NaN</td>\n",
       "      <td>NaN</td>\n",
       "      <td>NaN</td>\n",
       "      <td>...</td>\n",
       "      <td>NaN</td>\n",
       "      <td>NaN</td>\n",
       "      <td>NaN</td>\n",
       "      <td>NaN</td>\n",
       "      <td>NaN</td>\n",
       "      <td>NaN</td>\n",
       "      <td>NaN</td>\n",
       "      <td>NaN</td>\n",
       "      <td>NaN</td>\n",
       "      <td>NaN</td>\n",
       "    </tr>\n",
       "    <tr>\n",
       "      <th>4</th>\n",
       "      <td>NaN</td>\n",
       "      <td>NaN</td>\n",
       "      <td>NaN</td>\n",
       "      <td>NaN</td>\n",
       "      <td>NaN</td>\n",
       "      <td>NaN</td>\n",
       "      <td>NaN</td>\n",
       "      <td>NaN</td>\n",
       "      <td>NaN</td>\n",
       "      <td>NaN</td>\n",
       "      <td>...</td>\n",
       "      <td>NaN</td>\n",
       "      <td>NaN</td>\n",
       "      <td>NaN</td>\n",
       "      <td>NaN</td>\n",
       "      <td>NaN</td>\n",
       "      <td>NaN</td>\n",
       "      <td>NaN</td>\n",
       "      <td>NaN</td>\n",
       "      <td>NaN</td>\n",
       "      <td>NaN</td>\n",
       "    </tr>\n",
       "    <tr>\n",
       "      <th>5</th>\n",
       "      <td>NaN</td>\n",
       "      <td>NaN</td>\n",
       "      <td>NaN</td>\n",
       "      <td>NaN</td>\n",
       "      <td>NaN</td>\n",
       "      <td>2.0</td>\n",
       "      <td>NaN</td>\n",
       "      <td>NaN</td>\n",
       "      <td>NaN</td>\n",
       "      <td>NaN</td>\n",
       "      <td>...</td>\n",
       "      <td>NaN</td>\n",
       "      <td>NaN</td>\n",
       "      <td>NaN</td>\n",
       "      <td>NaN</td>\n",
       "      <td>NaN</td>\n",
       "      <td>NaN</td>\n",
       "      <td>NaN</td>\n",
       "      <td>NaN</td>\n",
       "      <td>NaN</td>\n",
       "      <td>NaN</td>\n",
       "    </tr>\n",
       "    <tr>\n",
       "      <th>...</th>\n",
       "      <td>...</td>\n",
       "      <td>...</td>\n",
       "      <td>...</td>\n",
       "      <td>...</td>\n",
       "      <td>...</td>\n",
       "      <td>...</td>\n",
       "      <td>...</td>\n",
       "      <td>...</td>\n",
       "      <td>...</td>\n",
       "      <td>...</td>\n",
       "      <td>...</td>\n",
       "      <td>...</td>\n",
       "      <td>...</td>\n",
       "      <td>...</td>\n",
       "      <td>...</td>\n",
       "      <td>...</td>\n",
       "      <td>...</td>\n",
       "      <td>...</td>\n",
       "      <td>...</td>\n",
       "      <td>...</td>\n",
       "      <td>...</td>\n",
       "    </tr>\n",
       "    <tr>\n",
       "      <th>6036</th>\n",
       "      <td>NaN</td>\n",
       "      <td>NaN</td>\n",
       "      <td>NaN</td>\n",
       "      <td>2.0</td>\n",
       "      <td>NaN</td>\n",
       "      <td>NaN</td>\n",
       "      <td>NaN</td>\n",
       "      <td>NaN</td>\n",
       "      <td>NaN</td>\n",
       "      <td>NaN</td>\n",
       "      <td>...</td>\n",
       "      <td>NaN</td>\n",
       "      <td>NaN</td>\n",
       "      <td>NaN</td>\n",
       "      <td>NaN</td>\n",
       "      <td>NaN</td>\n",
       "      <td>NaN</td>\n",
       "      <td>NaN</td>\n",
       "      <td>NaN</td>\n",
       "      <td>NaN</td>\n",
       "      <td>NaN</td>\n",
       "    </tr>\n",
       "    <tr>\n",
       "      <th>6037</th>\n",
       "      <td>NaN</td>\n",
       "      <td>NaN</td>\n",
       "      <td>NaN</td>\n",
       "      <td>NaN</td>\n",
       "      <td>NaN</td>\n",
       "      <td>NaN</td>\n",
       "      <td>NaN</td>\n",
       "      <td>NaN</td>\n",
       "      <td>NaN</td>\n",
       "      <td>NaN</td>\n",
       "      <td>...</td>\n",
       "      <td>NaN</td>\n",
       "      <td>NaN</td>\n",
       "      <td>NaN</td>\n",
       "      <td>NaN</td>\n",
       "      <td>NaN</td>\n",
       "      <td>NaN</td>\n",
       "      <td>NaN</td>\n",
       "      <td>NaN</td>\n",
       "      <td>NaN</td>\n",
       "      <td>NaN</td>\n",
       "    </tr>\n",
       "    <tr>\n",
       "      <th>6038</th>\n",
       "      <td>NaN</td>\n",
       "      <td>NaN</td>\n",
       "      <td>NaN</td>\n",
       "      <td>NaN</td>\n",
       "      <td>NaN</td>\n",
       "      <td>NaN</td>\n",
       "      <td>NaN</td>\n",
       "      <td>NaN</td>\n",
       "      <td>NaN</td>\n",
       "      <td>NaN</td>\n",
       "      <td>...</td>\n",
       "      <td>NaN</td>\n",
       "      <td>NaN</td>\n",
       "      <td>NaN</td>\n",
       "      <td>NaN</td>\n",
       "      <td>NaN</td>\n",
       "      <td>NaN</td>\n",
       "      <td>NaN</td>\n",
       "      <td>NaN</td>\n",
       "      <td>NaN</td>\n",
       "      <td>NaN</td>\n",
       "    </tr>\n",
       "    <tr>\n",
       "      <th>6039</th>\n",
       "      <td>NaN</td>\n",
       "      <td>NaN</td>\n",
       "      <td>NaN</td>\n",
       "      <td>NaN</td>\n",
       "      <td>NaN</td>\n",
       "      <td>NaN</td>\n",
       "      <td>NaN</td>\n",
       "      <td>NaN</td>\n",
       "      <td>NaN</td>\n",
       "      <td>NaN</td>\n",
       "      <td>...</td>\n",
       "      <td>NaN</td>\n",
       "      <td>NaN</td>\n",
       "      <td>NaN</td>\n",
       "      <td>NaN</td>\n",
       "      <td>NaN</td>\n",
       "      <td>NaN</td>\n",
       "      <td>NaN</td>\n",
       "      <td>NaN</td>\n",
       "      <td>NaN</td>\n",
       "      <td>NaN</td>\n",
       "    </tr>\n",
       "    <tr>\n",
       "      <th>6040</th>\n",
       "      <td>3.0</td>\n",
       "      <td>NaN</td>\n",
       "      <td>NaN</td>\n",
       "      <td>NaN</td>\n",
       "      <td>NaN</td>\n",
       "      <td>NaN</td>\n",
       "      <td>NaN</td>\n",
       "      <td>NaN</td>\n",
       "      <td>NaN</td>\n",
       "      <td>NaN</td>\n",
       "      <td>...</td>\n",
       "      <td>NaN</td>\n",
       "      <td>NaN</td>\n",
       "      <td>NaN</td>\n",
       "      <td>NaN</td>\n",
       "      <td>NaN</td>\n",
       "      <td>NaN</td>\n",
       "      <td>NaN</td>\n",
       "      <td>NaN</td>\n",
       "      <td>NaN</td>\n",
       "      <td>NaN</td>\n",
       "    </tr>\n",
       "  </tbody>\n",
       "</table>\n",
       "<p>6040 rows × 3664 columns</p>\n",
       "</div>"
      ],
      "text/plain": [
       "mID   1     2     3     4     5     6     7     8     9     10    ...  3943  \\\n",
       "uID                                                               ...         \n",
       "1      5.0   NaN   NaN   NaN   NaN   NaN   NaN   NaN   NaN   NaN  ...   NaN   \n",
       "2      NaN   NaN   NaN   NaN   NaN   NaN   NaN   NaN   NaN   NaN  ...   NaN   \n",
       "3      NaN   NaN   NaN   NaN   NaN   NaN   NaN   NaN   NaN   NaN  ...   NaN   \n",
       "4      NaN   NaN   NaN   NaN   NaN   NaN   NaN   NaN   NaN   NaN  ...   NaN   \n",
       "5      NaN   NaN   NaN   NaN   NaN   2.0   NaN   NaN   NaN   NaN  ...   NaN   \n",
       "...    ...   ...   ...   ...   ...   ...   ...   ...   ...   ...  ...   ...   \n",
       "6036   NaN   NaN   NaN   2.0   NaN   NaN   NaN   NaN   NaN   NaN  ...   NaN   \n",
       "6037   NaN   NaN   NaN   NaN   NaN   NaN   NaN   NaN   NaN   NaN  ...   NaN   \n",
       "6038   NaN   NaN   NaN   NaN   NaN   NaN   NaN   NaN   NaN   NaN  ...   NaN   \n",
       "6039   NaN   NaN   NaN   NaN   NaN   NaN   NaN   NaN   NaN   NaN  ...   NaN   \n",
       "6040   3.0   NaN   NaN   NaN   NaN   NaN   NaN   NaN   NaN   NaN  ...   NaN   \n",
       "\n",
       "mID   3944  3945  3946  3947  3948  3949  3950  3951  3952  \n",
       "uID                                                         \n",
       "1      NaN   NaN   NaN   NaN   NaN   NaN   NaN   NaN   NaN  \n",
       "2      NaN   NaN   NaN   NaN   NaN   NaN   NaN   NaN   NaN  \n",
       "3      NaN   NaN   NaN   NaN   NaN   NaN   NaN   NaN   NaN  \n",
       "4      NaN   NaN   NaN   NaN   NaN   NaN   NaN   NaN   NaN  \n",
       "5      NaN   NaN   NaN   NaN   NaN   NaN   NaN   NaN   NaN  \n",
       "...    ...   ...   ...   ...   ...   ...   ...   ...   ...  \n",
       "6036   NaN   NaN   NaN   NaN   NaN   NaN   NaN   NaN   NaN  \n",
       "6037   NaN   NaN   NaN   NaN   NaN   NaN   NaN   NaN   NaN  \n",
       "6038   NaN   NaN   NaN   NaN   NaN   NaN   NaN   NaN   NaN  \n",
       "6039   NaN   NaN   NaN   NaN   NaN   NaN   NaN   NaN   NaN  \n",
       "6040   NaN   NaN   NaN   NaN   NaN   NaN   NaN   NaN   NaN  \n",
       "\n",
       "[6040 rows x 3664 columns]"
      ]
     },
     "execution_count": 29,
     "metadata": {},
     "output_type": "execute_result"
    }
   ],
   "source": [
    "r_df = df_train.pivot(index='uID', columns='mID', values='rating')\n",
    "r_df"
   ]
  },
  {
   "cell_type": "markdown",
   "id": "eb326721-99c6-4b71-8583-2e14707d4b91",
   "metadata": {},
   "source": [
    "Now we see a lot of NaNs. We will deal with them later."
   ]
  },
  {
   "cell_type": "markdown",
   "id": "faf0c11d-bfc3-4998-8158-6c57ddc0b2b2",
   "metadata": {},
   "source": [
    "## Non-Negative Matrix Factorization (NMF) model"
   ]
  },
  {
   "cell_type": "markdown",
   "id": "3a368fa1-028b-407e-a2c8-37ea260235fb",
   "metadata": {},
   "source": [
    "NMF cannot deal with NaN. Let's substitute NaN with 0"
   ]
  },
  {
   "cell_type": "code",
   "execution_count": 11,
   "id": "a2b34b35-970a-4d37-adab-2923e9ab9d83",
   "metadata": {},
   "outputs": [
    {
     "data": {
      "text/plain": [
       "array([[5., 0., 0., ..., 0., 0., 0.],\n",
       "       [0., 0., 0., ..., 0., 0., 0.],\n",
       "       [0., 0., 0., ..., 0., 0., 0.],\n",
       "       ...,\n",
       "       [0., 0., 0., ..., 0., 0., 0.],\n",
       "       [0., 0., 0., ..., 0., 0., 0.],\n",
       "       [3., 0., 0., ..., 0., 0., 0.]])"
      ]
     },
     "execution_count": 11,
     "metadata": {},
     "output_type": "execute_result"
    }
   ],
   "source": [
    "y = r_df.fillna(0).to_numpy()\n",
    "y"
   ]
  },
  {
   "cell_type": "markdown",
   "id": "42f2ffb2-e7bf-4adc-ae10-5fc4e137f5e1",
   "metadata": {},
   "source": [
    "Before building the model, let's implement RMSE method to evaluate performance of the model"
   ]
  },
  {
   "cell_type": "code",
   "execution_count": 12,
   "id": "253935fd-8bd1-4162-aad2-a24253483e53",
   "metadata": {},
   "outputs": [],
   "source": [
    "def rmse_calc(y, yh):\n",
    "    mask = y.nonzero()\n",
    "    yf = y[mask].flatten()\n",
    "    yhf = yh[mask].flatten()\n",
    "    n = yf.shape[0]\n",
    "    return np.sqrt(np.sum((yf - yhf)**2)/n)"
   ]
  },
  {
   "cell_type": "markdown",
   "id": "09fe9c8f-7426-48f1-9562-ba4697277f4e",
   "metadata": {},
   "source": [
    "Let's calculate base RMSE. For that, we assume that the model classifies all ratings to 3. "
   ]
  },
  {
   "cell_type": "code",
   "execution_count": 15,
   "id": "3d1e9387-a67f-4c9e-b009-65df0c10d193",
   "metadata": {},
   "outputs": [
    {
     "name": "stdout",
     "output_type": "stream",
     "text": [
      "Base RMSE: 1.26\n"
     ]
    }
   ],
   "source": [
    "print(f\"Base RMSE: {rmse_calc(y, np.repeat(3, y.flatten().shape[0]).reshape(y.shape[0], -1)).round(2)}\")"
   ]
  },
  {
   "cell_type": "markdown",
   "id": "d1f89963-d7af-4cde-a67a-9b09d9e0b844",
   "metadata": {},
   "source": [
    "For movie classification, we will build the next model. \n",
    "\n",
    "We will perform NMF on the rating matrix with an arbitrary n_components. As the result we will have $W$ and $H$ matrices:\n",
    "$$R=WH$$\n",
    "By multiplying back $W$ and $H$ we will get a reconstruction of the $R$ matrix.\n",
    "$$ WH=\\hat{R} $$"
   ]
  },
  {
   "cell_type": "code",
   "execution_count": 16,
   "id": "a53bb081-14c7-455a-b569-3e9c69de4981",
   "metadata": {},
   "outputs": [
    {
     "data": {
      "text/plain": [
       "array([[1.75705963e+00, 5.52859369e-01, 3.80516698e-02, ...,\n",
       "        1.12477756e-02, 5.59806123e-03, 8.82495204e-02],\n",
       "       [1.55143423e+00, 3.50792809e-01, 9.36638351e-02, ...,\n",
       "        2.30062027e-02, 0.00000000e+00, 4.14951640e-02],\n",
       "       [7.52640785e-01, 1.55689744e-01, 2.23612969e-02, ...,\n",
       "        0.00000000e+00, 0.00000000e+00, 1.42194443e-03],\n",
       "       ...,\n",
       "       [6.82892148e-01, 1.77780700e-02, 5.18911859e-03, ...,\n",
       "        5.46306804e-04, 2.18319691e-04, 1.44304428e-03],\n",
       "       [1.34878448e+00, 2.90711824e-01, 1.18468009e-01, ...,\n",
       "        4.12772607e-02, 0.00000000e+00, 0.00000000e+00],\n",
       "       [1.39370538e+00, 9.34118947e-02, 7.78264759e-03, ...,\n",
       "        8.78888730e-02, 8.45913444e-02, 3.93811803e-01]])"
      ]
     },
     "execution_count": 16,
     "metadata": {},
     "output_type": "execute_result"
    }
   ],
   "source": [
    "nmf = NMF(n_components=20, random_state=42, max_iter=1000)\n",
    "nmf.fit(y)\n",
    "w = nmf.transform(y)\n",
    "h = nmf.components_\n",
    "y_hat = w.dot(h)\n",
    "y_hat"
   ]
  },
  {
   "cell_type": "code",
   "execution_count": 20,
   "id": "a40ef687-9e49-427a-8dcf-70e97a3f1664",
   "metadata": {},
   "outputs": [
    {
     "name": "stdout",
     "output_type": "stream",
     "text": [
      "RMSE: 2.78\n"
     ]
    }
   ],
   "source": [
    "print(f\"RMSE: {rmse_calc(y, y_hat).round(2)}\")"
   ]
  },
  {
   "cell_type": "markdown",
   "id": "39d4b1c3-01b3-4760-8bdb-47945c4a0478",
   "metadata": {},
   "source": [
    "RMSE is terrible. It is more than twice worse than the base RMSE.\n",
    "\n",
    "I believe one of the issues is that we selected 0 as a neutral element. \n",
    "The reality is that 0 is not neutral. It is highly negative having a range of ratings [1, 5]\n",
    "\n",
    "Let's check this assumption by using 3 as a neutral element. "
   ]
  },
  {
   "cell_type": "code",
   "execution_count": 18,
   "id": "ff12068e-87ca-4440-ad09-8e71fd128a97",
   "metadata": {},
   "outputs": [
    {
     "data": {
      "text/plain": [
       "array([[5., 3., 3., ..., 3., 3., 3.],\n",
       "       [3., 3., 3., ..., 3., 3., 3.],\n",
       "       [3., 3., 3., ..., 3., 3., 3.],\n",
       "       ...,\n",
       "       [3., 3., 3., ..., 3., 3., 3.],\n",
       "       [3., 3., 3., ..., 3., 3., 3.],\n",
       "       [3., 3., 3., ..., 3., 3., 3.]])"
      ]
     },
     "execution_count": 18,
     "metadata": {},
     "output_type": "execute_result"
    }
   ],
   "source": [
    "y3 = r_df.fillna(3).to_numpy()\n",
    "y3"
   ]
  },
  {
   "cell_type": "code",
   "execution_count": 19,
   "id": "cc996670-6eb7-4b93-8166-6c4676f26c90",
   "metadata": {},
   "outputs": [
    {
     "name": "stdout",
     "output_type": "stream",
     "text": [
      "Base RMSE: 0.22\n"
     ]
    }
   ],
   "source": [
    "print(f\"Base RMSE: {rmse_calc(y3, np.repeat(3, y.flatten().shape[0]).reshape(y.shape[0], -1)).round(2)}\")"
   ]
  },
  {
   "cell_type": "code",
   "execution_count": 23,
   "id": "60defc70-b7aa-4faf-a397-1465c177f166",
   "metadata": {},
   "outputs": [
    {
     "data": {
      "text/plain": [
       "array([[3.64647457, 3.07365864, 3.08936123, ..., 2.98023576, 2.98569035,\n",
       "        2.99837489],\n",
       "       [3.17836367, 2.99719526, 3.063883  , ..., 2.97749291, 2.9868935 ,\n",
       "        3.0560864 ],\n",
       "       [3.294116  , 3.01222244, 3.05370954, ..., 2.98593414, 2.99445055,\n",
       "        2.98352755],\n",
       "       ...,\n",
       "       [3.13715105, 2.99989059, 3.05388814, ..., 2.98885259, 2.98880177,\n",
       "        2.99764213],\n",
       "       [3.43487113, 3.0030729 , 3.07690803, ..., 2.99637966, 2.98514955,\n",
       "        2.96004352],\n",
       "       [3.56760083, 2.86933872, 3.04654591, ..., 2.99345829, 3.01786141,\n",
       "        3.16476086]])"
      ]
     },
     "execution_count": 23,
     "metadata": {},
     "output_type": "execute_result"
    }
   ],
   "source": [
    "nmf = NMF(n_components=20, random_state=42, max_iter=1000)\n",
    "nmf.fit(y3)\n",
    "w = nmf.transform(y3)\n",
    "h = nmf.components_\n",
    "y_hat3 = w.dot(h)\n",
    "y_hat3"
   ]
  },
  {
   "cell_type": "code",
   "execution_count": 24,
   "id": "f1a6f81a-6948-44e0-a593-d859e976bd13",
   "metadata": {},
   "outputs": [
    {
     "name": "stdout",
     "output_type": "stream",
     "text": [
      "RMSE: 0.21\n"
     ]
    }
   ],
   "source": [
    "print(f\"RMSE: {rmse_calc(y3, y_hat3).round(2)}\")"
   ]
  },
  {
   "cell_type": "markdown",
   "id": "8e1fc803-d077-40ca-ae5d-46fb2ed0ae9d",
   "metadata": {},
   "source": [
    "It performs slightly better now. Still not the best, but at least better than the base. "
   ]
  },
  {
   "cell_type": "markdown",
   "id": "2acda4ae-55e0-45b2-b89a-1c182c518594",
   "metadata": {},
   "source": [
    "## Conclusion"
   ]
  },
  {
   "cell_type": "markdown",
   "id": "fd170d55-94bf-4d79-95e5-5115a74b0bbf",
   "metadata": {},
   "source": [
    "The application of Non-negative Matrix Factorization (NMF) for predicting movie ratings demonstrated suboptimal performance. In the basic case, the RMSE for NMF was more than twice worse than just predicting everything to have a rating of 3.  \n",
    "\n",
    "This poor performance can be attributed to several factors: NMF's assumption of linear relationships between users and movies may be too simplistic for capturing complex rating patterns. Another issue is the sparse nature of the rating matrix, where most users rate only a small fraction of available movies.\n",
    "\n",
    "To improve the prediction performance, several approaches could be implemented:\n",
    "\n",
    "1. Incorporate bias terms to account for user and movie rating tendencies, as some users tend to rate higher/lower than others, and some movies consistently receive higher/lower ratings. For example, we could replace NaNs with mean or median per user. \n",
    "\n",
    "2. Combine NMF with other techniques in a hybrid approach, such as integrating content-based features (movie genres, actors, directors) alongside the collaborative filtering aspects of NMF\n",
    "\n",
    "3. Consider advanced variants like SVD that might better handle the inherent structure of rating data."
   ]
  },
  {
   "cell_type": "markdown",
   "id": "41ece538-a65e-4c3e-8705-4f9f1808dcd2",
   "metadata": {},
   "source": [
    "## Resources"
   ]
  },
  {
   "cell_type": "markdown",
   "id": "0191713d-e30a-42ff-a2d4-9cefb9fb74ac",
   "metadata": {},
   "source": [
    "1. [Kaggle: UnLrW3_movie_ratings_dataset](https://www.kaggle.com/datasets/yu1111/unlrw3-movie-ratings-dataset)\n",
    "2. [Collaborative Filtering: Matrix Factorization Recommender System](https://www.jiristodulka.com/post/recsys_cf/)\n",
    "3. [Chang Liu. Personalized Recommendation Algorithm for Movie Data Combining Rating Matrix and User Subjective Preference](https://onlinelibrary.wiley.com/doi/10.1155/2022/2970514)"
   ]
  },
  {
   "cell_type": "code",
   "execution_count": null,
   "id": "318b163b-9e71-4bad-a339-5bed4dce7d82",
   "metadata": {},
   "outputs": [],
   "source": []
  }
 ],
 "metadata": {
  "kernelspec": {
   "display_name": "Python 3 (ipykernel)",
   "language": "python",
   "name": "python3"
  },
  "language_info": {
   "codemirror_mode": {
    "name": "ipython",
    "version": 3
   },
   "file_extension": ".py",
   "mimetype": "text/x-python",
   "name": "python",
   "nbconvert_exporter": "python",
   "pygments_lexer": "ipython3",
   "version": "3.10.12"
  }
 },
 "nbformat": 4,
 "nbformat_minor": 5
}
